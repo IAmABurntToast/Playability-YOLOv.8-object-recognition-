{
 "cells": [
  {
   "cell_type": "code",
   "execution_count": null,
   "id": "15d70206",
   "metadata": {},
   "outputs": [],
   "source": [
    "from ultralytics import YOLO"
   ]
  },
  {
   "cell_type": "code",
   "execution_count": null,
   "id": "566d0613",
   "metadata": {},
   "outputs": [],
   "source": [
    "model = YOLO(\"yolov8m.pt\")"
   ]
  },
  {
   "cell_type": "code",
   "execution_count": null,
   "id": "60016a88",
   "metadata": {},
   "outputs": [],
   "source": [
    "cd /Users/emilygemmell/miniconda3/minicoco/data/all_images"
   ]
  },
  {
   "cell_type": "code",
   "execution_count": null,
   "id": "8667ae6a",
   "metadata": {},
   "outputs": [],
   "source": [
    "#make an empty csv file to store the extracted results data output\n",
    "with open('/Users/emilygemmell/miniconda3/minicoco/results/pred_allother.csv', 'w') as creating_new_csv_file: \n",
    "       pass "
   ]
  },
  {
   "cell_type": "markdown",
   "id": "c6c4756d",
   "metadata": {},
   "source": [
    "We ran the code below separately for classes 0 (persons), 2 (cars) and all the remaining classes together (1,3,5,6,7,9,10,11,12,13,14,15,16,32,33,34,35,36,38,56,57,58).\n",
    "\n",
    "We used the following confidence and iou thresholds for each class after testing to check sensitivity and specificity of predictions.\n",
    "\n",
    "Class 0 - persons: conf= 0.55, iou = 0.90\n",
    "\n",
    "Class 2 - cars: conf = 0.50, iou = 0.95\n",
    "\n",
    "All other classes (1,3,5,6,7,9,10,11,12,13,14,15,16,32,33,34,35,36,38,56,57,58): conf = 0.60, iou = 0.60\n"
   ]
  },
  {
   "cell_type": "code",
   "execution_count": null,
   "id": "6897a4db",
   "metadata": {
    "scrolled": false
   },
   "outputs": [],
   "source": [
    "import os\n",
    "from os import listdir\n",
    "import numpy as np\n",
    "import cv2\n",
    "import pandas as pd\n",
    "import re\n",
    "\n",
    "\n",
    "# create path to folder with images\n",
    "folder_dir = \"/Users/emilygemmell/miniconda3/minicoco/data/all_images/\"\n",
    "\n",
    "# run model, escaping any images that are not found\n",
    "for i in range(0, len(os.listdir(folder_dir))):\n",
    "    try:\n",
    "        # inference\n",
    "        result = model.predict(os.listdir(folder_dir)[i], \n",
    "                conf = 0.60, \n",
    "                iou = 0.60, \n",
    "                classes = [1,3,5,6,7,9,10,11,12,13,14,15,16,32,33,34,35,36,38,56,57,58],\n",
    "                max_det = 300,\n",
    "                agnostic_nms = False)\n",
    "    except FileNotFoundError as e:\n",
    "        print(f\"FileNotFoundError successfully handled\\n\"\n",
    "                    f\"{e}\")\n",
    "        continue\n",
    "\n",
    "            \n",
    "        # make an empty list to store extracted data\n",
    "    datalist = []\n",
    "\n",
    "        # get image name\n",
    "    img_name = result[0].path\n",
    "            \n",
    "        # get the total number of detected objects in the image\n",
    "    detection_count = result[0].boxes.shape[0]\n",
    "        \n",
    "        # go through each detected object and extract the class number, class name and confidence\n",
    "        # save these values with the image name in a list called \"row\"\n",
    "        # save each row to the results folder\n",
    "    for ii in range(detection_count):\n",
    "        cls = int(result[0].boxes.cls[ii].item())\n",
    "        name = result[0].names[cls]\n",
    "        confidence = float(result[0].boxes.conf[ii].item())\n",
    "        row = [img_name, cls, name, confidence]\n",
    "        datalist.append(row)\n",
    "        df = pd.DataFrame(datalist, columns = ['image_name', 'class_num', 'class', 'confidence'])\n",
    "        df.to_csv('/Users/emilygemmell/miniconda3/minicoco/results/pred_allother.csv', mode='a', index=False, header=False)\n",
    "    "
   ]
  },
  {
   "cell_type": "markdown",
   "id": "b6d1a94c",
   "metadata": {},
   "source": [
    "Now run model for each class, setting the confidence threshold and iou threshold after a few trials to check accuracy. You will have to find a balance between sensitivity and specificity."
   ]
  },
  {
   "cell_type": "code",
   "execution_count": null,
   "id": "3de62499",
   "metadata": {},
   "outputs": [],
   "source": [
    "allres = pd.read_csv('/Users/emilygemmell/miniconda3/minicoco/results/pred_allother.csv', header=None)"
   ]
  },
  {
   "cell_type": "code",
   "execution_count": null,
   "id": "da7c6721",
   "metadata": {},
   "outputs": [],
   "source": [
    "allres"
   ]
  },
  {
   "cell_type": "code",
   "execution_count": null,
   "id": "b60356e9",
   "metadata": {},
   "outputs": [],
   "source": []
  },
  {
   "cell_type": "code",
   "execution_count": null,
   "id": "716627e7",
   "metadata": {},
   "outputs": [],
   "source": []
  },
  {
   "cell_type": "code",
   "execution_count": null,
   "id": "4dfdb6ca",
   "metadata": {},
   "outputs": [],
   "source": []
  }
 ],
 "metadata": {
  "kernelspec": {
   "display_name": "Semantic_Seg (torch)",
   "language": "python",
   "name": "pytorch"
  },
  "language_info": {
   "codemirror_mode": {
    "name": "ipython",
    "version": 3
   },
   "file_extension": ".py",
   "mimetype": "text/x-python",
   "name": "python",
   "nbconvert_exporter": "python",
   "pygments_lexer": "ipython3",
   "version": "3.9.18"
  }
 },
 "nbformat": 4,
 "nbformat_minor": 5
}
